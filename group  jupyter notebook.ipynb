{
 "cells": [
  {
   "cell_type": "code",
   "execution_count": 1,
   "id": "9fe44317-eebe-4839-bd1c-cadb9ea3c01f",
   "metadata": {},
   "outputs": [],
   "source": [
    "# Defining a function for the wrangling\n",
    "\n",
    "def fifa21_clean(df):\n",
    "    import numpy as np\n",
    "    \n",
    "    # Make all columns lowercase\n",
    "    df.columns = list(map(lambda x: x.lower(), df.columns))\n",
    "    \n",
    "    #Remove 'loan end date' column as it is almost empty\n",
    "\n",
    "    if 'loan date end' in df.columns:\n",
    "        df = df.drop('loan date end', axis = 1)\n",
    "\n",
    "    # Fill columns 'club' and 'joined' with dummy data; we don't want to remove them completely\n",
    "    df['club'] = df['club'].replace(np.nan,'Unknown')\n",
    "    df['joined'] = df['joined'].replace(np.nan,1-1-2019)\n",
    "    \n",
    "    for col in df.loc[:,'ls':'gk']: # This removes the potential score for the players (+1, +2 etc) in the stats columns & turns into integer\n",
    "        df[col] = list(map(lambda x: x[:2], df[col]))\n",
    "        df[col] = df[col].str.replace('+', '.')\n",
    "        df[col] = pd.to_numeric(df[col])\n",
    "        \n",
    "    df['gk'] = df['gk'].astype(int) # This changes the 'gk' column to int, which for some reason is converted to float first\n",
    "    \n",
    "    for col in df[['w/f','sm','ir']]: # Removing star signs from three columns\n",
    "        df[col] = list(map(lambda x: x[:1], df[col]))\n",
    "        df[col] = pd.to_numeric(df[col])     \n",
    "        \n",
    "    i = 0\n",
    "    for i in range(len(df['hits'])): # Cleaning the 'hits' column\n",
    "        if \"K\" in df['hits'][i]:\n",
    "            df['hits'][i] = df['hits'][i].replace('K','')\n",
    "            df['hits'][i] = pd.to_numeric(df['hits'][i])\n",
    "            df['hits'][i] = df['hits'][i]*1000\n",
    "    df['hits'] = df['hits'].astype(int)\n",
    "    \n",
    "    if 'id' in df.columns:\n",
    "        df = df.drop('id', axis = 1) # dropping the ID column, not needed and not a true numerical  \n",
    "        \n",
    "    i = 0\n",
    "    for col in df[['a/w', 'd/w']]: # Encoding the categorical columns to be used\n",
    "        for i in range(len(df[col])):  \n",
    "            if df[col][i] == \"Low\":\n",
    "                df[col][i] = 0\n",
    "            elif df[col][i] == \"Medium\":\n",
    "                df[col][i] = 1\n",
    "            elif df[col][i] == \"High\":\n",
    "                df[col][i] = 2\n",
    "    \n",
    "    cleandf = df\n",
    "    display(cleandf)\n",
    "    return cleandf"
   ]
  }
 ],
 "metadata": {
  "kernelspec": {
   "display_name": "Python 3",
   "language": "python",
   "name": "python3"
  },
  "language_info": {
   "codemirror_mode": {
    "name": "ipython",
    "version": 3
   },
   "file_extension": ".py",
   "mimetype": "text/x-python",
   "name": "python",
   "nbconvert_exporter": "python",
   "pygments_lexer": "ipython3",
   "version": "3.8.8"
  }
 },
 "nbformat": 4,
 "nbformat_minor": 5
}
